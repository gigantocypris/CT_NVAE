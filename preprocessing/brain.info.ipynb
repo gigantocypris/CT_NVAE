{
 "cells": [
  {
   "cell_type": "code",
   "execution_count": 22,
   "metadata": {},
   "outputs": [],
   "source": [
    "import os\n",
    "import pydicom\n",
    "\n",
    "def print_dicom_metadata(directory_path):\n",
    "    # Get list of all files in the directory\n",
    "    files = os.listdir(directory_path)\n",
    "\n",
    "    if not files:\n",
    "        print(\"No files found in the directory.\")\n",
    "        return\n",
    "\n",
    "    # Iterate over each file in the directory\n",
    "    for dicom_file in files:\n",
    "        # Read the DICOM file\n",
    "        dataset = pydicom.dcmread(os.path.join(directory_path, dicom_file))\n",
    "\n",
    "        # print(\"Metadata for DICOM file: \", dicom_file)\n",
    "        # print(\"---------------------------------------------------\")\n",
    "\n",
    "        # Print specific metadata\n",
    "        # print(\"Patient ID: \", dataset.PatientID)\n",
    "        print(\"Study Instance UID: \", dataset.StudyInstanceUID)\n",
    "        # print(\"\\n\")"
   ]
  },
  {
   "cell_type": "code",
   "execution_count": 24,
   "metadata": {},
   "outputs": [
    {
     "name": "stdout",
     "output_type": "stream",
     "text": [
      "Study Instance UID:  ID_54f35140b0\n",
      "Study Instance UID:  ID_54f35140b0\n",
      "Study Instance UID:  ID_125726bb48\n",
      "Study Instance UID:  ID_54f35140b0\n",
      "Study Instance UID:  ID_125726bb48\n",
      "Study Instance UID:  ID_125726bb48\n",
      "Study Instance UID:  ID_125726bb48\n",
      "Study Instance UID:  ID_54f35140b0\n",
      "Study Instance UID:  ID_54f35140b0\n",
      "Study Instance UID:  ID_54f35140b0\n",
      "Study Instance UID:  ID_54f35140b0\n",
      "Study Instance UID:  ID_125726bb48\n",
      "Study Instance UID:  ID_125726bb48\n",
      "Study Instance UID:  ID_54f35140b0\n",
      "Study Instance UID:  ID_125726bb48\n",
      "Study Instance UID:  ID_125726bb48\n",
      "Study Instance UID:  ID_125726bb48\n",
      "Study Instance UID:  ID_125726bb48\n",
      "Study Instance UID:  ID_54f35140b0\n",
      "Study Instance UID:  ID_54f35140b0\n",
      "Study Instance UID:  ID_125726bb48\n",
      "Study Instance UID:  ID_54f35140b0\n",
      "Study Instance UID:  ID_125726bb48\n",
      "Study Instance UID:  ID_54f35140b0\n",
      "Study Instance UID:  ID_54f35140b0\n"
     ]
    }
   ],
   "source": [
    "print_dicom_metadata('/global/cfs/cdirs/m3562/users/hkim/brain_data/dcm_organized_by_patient/ID_172024e4')"
   ]
  },
  {
   "cell_type": "code",
   "execution_count": null,
   "metadata": {},
   "outputs": [],
   "source": []
  }
 ],
 "metadata": {
  "kernelspec": {
   "display_name": "tomopy",
   "language": "python",
   "name": "tomopy"
  },
  "language_info": {
   "codemirror_mode": {
    "name": "ipython",
    "version": 3
   },
   "file_extension": ".py",
   "mimetype": "text/x-python",
   "name": "python",
   "nbconvert_exporter": "python",
   "pygments_lexer": "ipython3",
   "version": "3.9.16"
  },
  "orig_nbformat": 4
 },
 "nbformat": 4,
 "nbformat_minor": 2
}
